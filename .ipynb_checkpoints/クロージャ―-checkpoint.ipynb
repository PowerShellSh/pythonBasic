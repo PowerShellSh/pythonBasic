{
 "cells": [
  {
   "cell_type": "markdown",
   "metadata": {},
   "source": [
    "## クロージャ―"
   ]
  },
  {
   "cell_type": "code",
   "execution_count": 7,
   "metadata": {},
   "outputs": [
    {
     "name": "stdout",
     "output_type": "stream",
     "text": [
      "3\n"
     ]
    }
   ],
   "source": [
    "def outer(a, b):\n",
    "    def inner():\n",
    "        return a + b\n",
    "    return inner\n",
    "f = outer(1, 2)\n",
    "r = f()\n",
    "print(r)"
   ]
  },
  {
   "cell_type": "markdown",
   "metadata": {},
   "source": [
    "## 1 + 2を後程やりたいなどの時に使う"
   ]
  },
  {
   "cell_type": "code",
   "execution_count": 9,
   "metadata": {},
   "outputs": [],
   "source": [
    "def circle_area_func(pi):\n",
    "    def circle_area(radius):\n",
    "        return pi * radius * radius\n",
    "    return circle_area"
   ]
  },
  {
   "cell_type": "code",
   "execution_count": 13,
   "metadata": {},
   "outputs": [
    {
     "name": "stdout",
     "output_type": "stream",
     "text": [
      "314.0\n",
      "314.1592\n"
     ]
    }
   ],
   "source": [
    "ca1 = circle_area_func(3.14)\n",
    "ca2 = circle_area_func(3.141592)\n",
    "\n",
    "print(ca1(10))\n",
    "print(ca2(10))"
   ]
  },
  {
   "cell_type": "markdown",
   "metadata": {},
   "source": [
    "## デコレーター"
   ]
  },
  {
   "cell_type": "code",
   "execution_count": 21,
   "metadata": {},
   "outputs": [
    {
     "name": "stdout",
     "output_type": "stream",
     "text": [
      "kwargs:  {'key1': 1, 'key2': 2, 'key3': 3}\n",
      "type:  <class 'dict'>\n"
     ]
    }
   ],
   "source": [
    "def func_kwargs(**kwargs):\n",
    "    print('kwargs: ', kwargs)\n",
    "    print('type: ', type(kwargs))\n",
    "\n",
    "func_kwargs(key1=1, key2=2, key3=3)\n",
    "# kwargs:  {'key1': 1, 'key2': 2, 'key3': 3}\n",
    "# type:  <class 'dict'>"
   ]
  },
  {
   "cell_type": "code",
   "execution_count": 22,
   "metadata": {},
   "outputs": [
    {
     "name": "stdout",
     "output_type": "stream",
     "text": [
      "arg1:  0\n",
      "arg2:  4\n",
      "args:  (1, 2, 3)\n"
     ]
    }
   ],
   "source": [
    "def func_args2(arg1, *args, arg2):\n",
    "    print('arg1: ', arg1)\n",
    "    print('arg2: ', arg2)\n",
    "    print('args: ', args)\n",
    "\n",
    "# func_args2(0, 1, 2, 3, 4)\n",
    "# TypeError: func_args2() missing 1 required keyword-only argument: 'arg2'\n",
    "\n",
    "func_args2(0, 1, 2, 3, arg2=4)\n",
    "# arg1:  0\n",
    "# arg2:  4\n",
    "# args:  (1, 2, 3)"
   ]
  },
  {
   "cell_type": "code",
   "execution_count": 26,
   "metadata": {},
   "outputs": [
    {
     "name": "stdout",
     "output_type": "stream",
     "text": [
      "start\n",
      "start\n",
      "end\n",
      "end\n",
      "30\n"
     ]
    }
   ],
   "source": [
    "# def print_more(func):\n",
    "#     def wrapper(*args, **kwargs):\n",
    "#         print('func:', func.__name__)\n",
    "#         print('args:', args)\n",
    "#         print('kwargs:',kwargs)\n",
    "#         result = funk(*args, **kwargs)\n",
    "#         print('end')\n",
    "#         return result\n",
    "#     return wrapper\n",
    "\n",
    "def print_info(func):\n",
    "    def wrapper(*args, **kwargs):\n",
    "        print('start')\n",
    "        result = func(*args, **kwargs)\n",
    "        print('end')\n",
    "        return result\n",
    "    return wrapper\n",
    "\n",
    "@print_info\n",
    "def add_num(a, b):\n",
    "    return a + b\n",
    "\n",
    "f = print_info(add_num)\n",
    "r = f(10, 20)\n",
    "print(r)\n",
    "\n",
    "# @print_more\n",
    "# @print_info\n",
    "# def add_num(a, b):\n",
    "#     return a + b\n",
    "# r = add_num(10, 20)\n",
    "# print(r)"
   ]
  },
  {
   "cell_type": "code",
   "execution_count": null,
   "metadata": {},
   "outputs": [],
   "source": []
  }
 ],
 "metadata": {
  "kernelspec": {
   "display_name": "Python 3",
   "language": "python",
   "name": "python3"
  },
  "language_info": {
   "codemirror_mode": {
    "name": "ipython",
    "version": 3
   },
   "file_extension": ".py",
   "mimetype": "text/x-python",
   "name": "python",
   "nbconvert_exporter": "python",
   "pygments_lexer": "ipython3",
   "version": "3.7.7"
  }
 },
 "nbformat": 4,
 "nbformat_minor": 4
}
