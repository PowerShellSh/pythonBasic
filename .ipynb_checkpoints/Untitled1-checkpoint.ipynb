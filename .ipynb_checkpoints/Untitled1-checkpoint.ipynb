{
 "cells": [
  {
   "cell_type": "code",
   "execution_count": 2,
   "metadata": {},
   "outputs": [
    {
     "name": "stdout",
     "output_type": "stream",
     "text": [
      "stop eating\n"
     ]
    }
   ],
   "source": [
    "#for else文\n",
    "for fruit in ['apple' , 'banana', 'orange']:\n",
    "    #if fruit == 'banana':\n",
    "    if fruit == 'apple':\n",
    "        print('stop eating')\n",
    "        break\n",
    "    print(fruit)\n",
    "\n",
    "else:\n",
    "    print('I ate all')\n",
    "    "
   ]
  },
  {
   "cell_type": "code",
   "execution_count": 3,
   "metadata": {},
   "outputs": [
    {
     "name": "stdout",
     "output_type": "stream",
     "text": [
      "0 apple\n",
      "1 banana\n",
      "2 orange\n"
     ]
    }
   ],
   "source": [
    "# enumerate関数\n",
    "for i, fruit in enumerate(['apple', 'banana', 'orange']):\n",
    "    print(i, fruit)"
   ]
  },
  {
   "cell_type": "code",
   "execution_count": 7,
   "metadata": {},
   "outputs": [
    {
     "name": "stdout",
     "output_type": "stream",
     "text": [
      "Mon apple coffee\n",
      "Tue banana tea\n",
      "Wed orange beer\n"
     ]
    }
   ],
   "source": [
    "# zip関数\n",
    "days   = ['Mon', 'Tue', 'Wed']\n",
    "fruits  = ['apple', 'banana', 'orange']\n",
    "drinks = ['coffee', 'tea', 'beer']\n",
    "\n",
    "#for i in range(len(days)):\n",
    "#    print(days[i], fruit[i], drinks[i])\n",
    "for day, fruit, drink in zip(days, fruits, drinks):\n",
    "    print(day, fruit, drink)\n",
    "\n"
   ]
  },
  {
   "cell_type": "code",
   "execution_count": null,
   "metadata": {},
   "outputs": [],
   "source": []
  }
 ],
 "metadata": {
  "kernelspec": {
   "display_name": "Python 3",
   "language": "python",
   "name": "python3"
  },
  "language_info": {
   "codemirror_mode": {
    "name": "ipython",
    "version": 3
   },
   "file_extension": ".py",
   "mimetype": "text/x-python",
   "name": "python",
   "nbconvert_exporter": "python",
   "pygments_lexer": "ipython3",
   "version": "3.8.5"
  }
 },
 "nbformat": 4,
 "nbformat_minor": 4
}
